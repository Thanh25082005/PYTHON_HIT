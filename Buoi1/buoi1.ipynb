{
 "cells": [
  {
   "cell_type": "markdown",
   "metadata": {},
   "source": [
    "Câu 1: Python có thể làm được gì? Python có thể phát triển web, phân tích dữ liệu, trí tuệ nhân tạo (AI), machine learning, tự động hóa tác vụ (automation), lập trình nhúng và thậm chí dùng trong game development.\n",
    "\n",
    "Câu 2: So sánh Python với C++: Python: Dễ học, cú pháp đơn giản, tốc độ chậm hơn, là ngôn ngữ thông dịch, tốt cho phát triển nhanh và xử lý dữ liệu. C++: Phức tạp hơn, tốc độ nhanh hơn, là ngôn ngữ biên dịch, phù hợp cho các ứng dụng yêu cầu hiệu năng cao như game hoặc hệ thống.\n",
    "\n",
    "Câu 3: Python là ngôn ngữ thông dịch vì mã nguồn được thực thi trực tiếp bởi trình thông dịch, không cần qua bước biên dịch thành mã máy trước như C++.\n",
    "\n",
    "Câu 5: Kiến thức cơ bản: Khai báo biến: x = 5 (không cần khai báo kiểu dữ liệu) Toán tử: Cộng (+), trừ (-), nhân (*), chia (/), chia lấy dư (%), chia lấy phần nguyên (//), lũy thừa (**). Kiểu dữ liệu: int (số nguyên), float (số thực), str (chuỗi), list (danh sách), dict (từ điển), bool (kiểu logic)."
   ]
  },
  {
   "cell_type": "code",
   "execution_count": null,
   "metadata": {},
   "outputs": [],
   "source": [
    "# Khai báo biến không cần chỉ rõ kiểu dữ liệu\n",
    "x = 10      # int\n",
    "y = 3.14    # float\n",
    "name = \"Python\"  # string\n",
    "isPrime = True  # boolean"
   ]
  },
  {
   "cell_type": "code",
   "execution_count": null,
   "metadata": {},
   "outputs": [],
   "source": [
    "a = 10\n",
    "b = 3\n",
    "\n",
    "# Toán tử số học\n",
    "tong = a + b       # cộng\n",
    "hieu = a - b       # trừ\n",
    "tich = a * b       # nhân\n",
    "thuong = a / b     # chia bình thường\n",
    "du = a % b         # chia lấy dư\n",
    "phan_nguyen = a // b  # chia lấy phần nguyên\n",
    "mu = a ** b        # lũy thừa a mũ b\n",
    "\n",
    "# Toán tử so sánh\n",
    "print(a > b)  # True\n",
    "print(a == b) # False\n"
   ]
  },
  {
   "cell_type": "code",
   "execution_count": null,
   "metadata": {},
   "outputs": [],
   "source": []
  },
  {
   "cell_type": "code",
   "execution_count": null,
   "metadata": {},
   "outputs": [],
   "source": []
  },
  {
   "cell_type": "code",
   "execution_count": null,
   "metadata": {},
   "outputs": [],
   "source": [
    "\n",
    "# Toán tử logic\n",
    "print(a > 5 and b < 5)  # True\n",
    "print(a > 5 or b > 5)   # True"
   ]
  },
  {
   "cell_type": "code",
   "execution_count": null,
   "metadata": {},
   "outputs": [],
   "source": [
    "# Số nguyên (int)\n",
    "so_nguyen = 100\n",
    "\n",
    "# Số thực (float)\n",
    "so_thuc = 12.34\n",
    "\n",
    "# Chuỗi (string)\n",
    "chuoi = \"Hello, Python!\"\n",
    "\n",
    "# Danh sách (list)\n",
    "danh_sach = [1, 2, 3, 4, 5]\n",
    "\n",
    "# Từ điển (dictionary)\n",
    "tu_dien = {\"name\": \"Hieu\", \"age\": 25}\n",
    "\n",
    "# Kiểu boolean (bool)\n",
    "is_happy = True\n",
    "\n",
    "# In ra các giá trị\n",
    "print(so_nguyen, so_thuc, chuoi, danh_sach, tu_dien, is_happy)"
   ]
  }
 ],
 "metadata": {
  "language_info": {
   "name": "python"
  }
 },
 "nbformat": 4,
 "nbformat_minor": 2
}
